{
 "cells": [
  {
   "cell_type": "code",
   "execution_count": 1,
   "metadata": {},
   "outputs": [],
   "source": [
    "!conda list --export > requirements_raw.txt"
   ]
  },
  {
   "cell_type": "code",
   "execution_count": 2,
   "metadata": {},
   "outputs": [],
   "source": [
    "with open('requirements_raw.txt', 'r') as file:\n",
    "    lines = file.readlines()\n",
    "\n",
    "pip_lines = []\n",
    "for line in lines:\n",
    "    if '=' in line:\n",
    "        package, version, _ = line.split('=', 2)\n",
    "        pip_lines.append(f\"{package}=={version}\\n\")\n",
    "\n",
    "with open('requirements.txt', 'w') as file:\n",
    "    file.writelines(pip_lines)"
   ]
  }
 ],
 "metadata": {
  "kernelspec": {
   "display_name": "eeg_decoding",
   "language": "python",
   "name": "python3"
  },
  "language_info": {
   "codemirror_mode": {
    "name": "ipython",
    "version": 3
   },
   "file_extension": ".py",
   "mimetype": "text/x-python",
   "name": "python",
   "nbconvert_exporter": "python",
   "pygments_lexer": "ipython3",
   "version": "3.10.13"
  }
 },
 "nbformat": 4,
 "nbformat_minor": 2
}
