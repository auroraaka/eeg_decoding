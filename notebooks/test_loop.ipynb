{
 "cells": [
  {
   "cell_type": "code",
   "execution_count": null,
   "metadata": {},
   "outputs": [],
   "source": [
    "import sys\n",
    "import torch\n",
    "from torch.utils.data import DataLoader\n",
    "from torch.optim import Adam\n",
    "\n",
    "sys.path.append('../src')\n",
    "from config import Config\n",
    "from datasets import BroderickDataset\n",
    "from preprocessor import Preprocessor\n",
    "from utils import prepare_inputs, EEGDataset\n",
    "from model import EEGAdapterLlamaForCausalLM"
   ]
  },
  {
   "cell_type": "code",
   "execution_count": null,
   "metadata": {},
   "outputs": [],
   "source": [
    "config = Config(\"config/config.yaml\")\n",
    "EEG = BroderickDataset(config)\n",
    "PROCESSOR = Preprocessor(config, EEG=EEG)\n",
    "eegs, subjects, inputs, labels = prepare_inputs(config, *PROCESSOR['ALL'])"
   ]
  },
  {
   "cell_type": "code",
   "execution_count": null,
   "metadata": {},
   "outputs": [],
   "source": [
    "braindecoder = EEGAdapterLlamaForCausalLM(config, config.llama.model_name, config.llama.token)"
   ]
  },
  {
   "cell_type": "code",
   "execution_count": null,
   "metadata": {},
   "outputs": [],
   "source": [
    "for name, param in braindecoder.named_parameters():\n",
    "    if param.requires_grad:\n",
    "        print(f\"Parameter: {name}, Size: {param.size()}\")\n",
    "    else:\n",
    "        print(f\"Frozen Parameter: {name}, Size: {param.size()}\")"
   ]
  },
  {
   "cell_type": "code",
   "execution_count": 5,
   "metadata": {},
   "outputs": [],
   "source": [
    "dataset = EEGDataset(eegs, subjects, inputs, labels)\n",
    "dataloader = DataLoader(dataset, batch_size=1, shuffle=True)\n",
    "optimizer = Adam(braindecoder.parameters(), lr=config.train.learning_rate)"
   ]
  },
  {
   "cell_type": "code",
   "execution_count": null,
   "metadata": {},
   "outputs": [],
   "source": [
    "for (eeg, subject, input_data), label in dataloader:\n",
    "    print(f'eeg.shape: {eeg.shape}')\n",
    "    print(f'subject.shape: {subject.shape}')\n",
    "    print(f'input_ids: {input_data.shape}')\n",
    "    print(f'label_ids: {label.shape}')\n",
    "    break"
   ]
  },
  {
   "cell_type": "code",
   "execution_count": null,
   "metadata": {},
   "outputs": [],
   "source": [
    "def train(model, dataloader, optimizer, epochs, device):\n",
    "\n",
    "    model.train()\n",
    "    model.to(device)\n",
    "    for epoch in range(epochs):\n",
    "        total_loss = 0\n",
    "        for (eeg, subject, input_data), labels in dataloader:\n",
    "            eeg = eeg.to(device)\n",
    "            input_data = input_data.to(device)\n",
    "            labels = labels.to(device)\n",
    "\n",
    "            optimizer.zero_grad()\n",
    "\n",
    "            outputs = model(input_ids=input_data, labels=labels, eegs=eeg.float(), subject_index=subject)\n",
    "            loss = outputs.loss\n",
    "            total_loss += loss.item()\n",
    "            print(loss.item())\n",
    "\n",
    "            loss.backward()\n",
    "\n",
    "            optimizer.step()\n",
    "\n",
    "        avg_loss = total_loss / len(dataloader)\n",
    "        print(f\"Epoch {epoch+1}/{epochs}, Average Loss: {avg_loss:.4f}\")\n",
    "\n",
    "device = torch.device(\"cpu\")\n",
    "train(braindecoder, dataloader, optimizer, config.train.epochs, device)"
   ]
  }
 ],
 "metadata": {
  "kernelspec": {
   "display_name": "eeg_decoding",
   "language": "python",
   "name": "python3"
  },
  "language_info": {
   "codemirror_mode": {
    "name": "ipython",
    "version": 3
   },
   "file_extension": ".py",
   "mimetype": "text/x-python",
   "name": "python",
   "nbconvert_exporter": "python",
   "pygments_lexer": "ipython3",
   "version": "3.10.13"
  }
 },
 "nbformat": 4,
 "nbformat_minor": 2
}
